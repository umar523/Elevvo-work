{
 "cells": [
  {
   "cell_type": "markdown",
   "id": "2459db4c",
   "metadata": {},
   "source": [
    "# Forest Cover Type Prediction (UCI Covertype Dataset)\n",
    "\n",
    "This notebook demonstrates data cleaning, preprocessing, training, and evaluation of classification models to predict the type of forest cover based on cartographic and environmental features."
   ]
  },
  {
   "cell_type": "code",
   "execution_count": null,
   "id": "10786357",
   "metadata": {},
   "outputs": [],
   "source": [
    "import pandas as pd\n",
    "import numpy as np\n",
    "import matplotlib.pyplot as plt\n",
    "import seaborn as sns\n",
    "from sklearn.model_selection import train_test_split, cross_val_score\n",
    "from sklearn.preprocessing import StandardScaler\n",
    "from sklearn.metrics import classification_report, confusion_matrix, ConfusionMatrixDisplay\n",
    "from sklearn.linear_model import LogisticRegression\n",
    "from sklearn.ensemble import RandomForestClassifier\n",
    "from xgboost import XGBClassifier"
   ]
  },
  {
   "cell_type": "markdown",
   "id": "b9ef7a7c",
   "metadata": {},
   "source": [
    "## Load Dataset\n",
    "The UCI Covertype dataset can be downloaded from: https://archive.ics.uci.edu/ml/datasets/covertype"
   ]
  },
  {
   "cell_type": "code",
   "execution_count": null,
   "id": "bcb08dea",
   "metadata": {},
   "outputs": [],
   "source": [
    "# Replace with the path to your dataset CSV file\n",
    "data = pd.read_csv('covtype.csv')\n",
    "data.head()"
   ]
  },
  {
   "cell_type": "markdown",
   "id": "ae1d92ee",
   "metadata": {},
   "source": [
    "## Data Preprocessing"
   ]
  },
  {
   "cell_type": "code",
   "execution_count": null,
   "id": "4a5924b8",
   "metadata": {},
   "outputs": [],
   "source": [
    "X = data.drop('Cover_Type', axis=1)\n",
    "y = data['Cover_Type']\n",
    "\n",
    "# Scale numerical features\n",
    "scaler = StandardScaler()\n",
    "X_scaled = scaler.fit_transform(X)\n",
    "\n",
    "# Train-test split\n",
    "X_train, X_test, y_train, y_test = train_test_split(X_scaled, y, test_size=0.2, random_state=42, stratify=y)\n",
    "\n",
    "X_train.shape, X_test.shape"
   ]
  },
  {
   "cell_type": "markdown",
   "id": "a251b6ba",
   "metadata": {},
   "source": [
    "## Model Training & Evaluation"
   ]
  },
  {
   "cell_type": "code",
   "execution_count": null,
   "id": "9e246c83",
   "metadata": {},
   "outputs": [],
   "source": [
    "models = {\n",
    "    'Logistic Regression': LogisticRegression(max_iter=1000, multi_class='multinomial'),\n",
    "    'Random Forest': RandomForestClassifier(n_estimators=100, random_state=42),\n",
    "    'XGBoost': XGBClassifier(eval_metric='mlogloss', use_label_encoder=False)\n",
    "}\n",
    "\n",
    "for name, model in models.items():\n",
    "    print(f\"\\n{name}\")\n",
    "    model.fit(X_train, y_train)\n",
    "    y_pred = model.predict(X_test)\n",
    "    print(classification_report(y_test, y_pred))\n",
    "    cm = confusion_matrix(y_test, y_pred)\n",
    "    disp = ConfusionMatrixDisplay(confusion_matrix=cm)\n",
    "    disp.plot(cmap='Blues')\n",
    "    plt.title(name)\n",
    "    plt.show()"
   ]
  },
  {
   "cell_type": "markdown",
   "id": "59a481b0",
   "metadata": {},
   "source": [
    "## Feature Importance (Random Forest & XGBoost)"
   ]
  },
  {
   "cell_type": "code",
   "execution_count": null,
   "id": "d1e76fdd",
   "metadata": {},
   "outputs": [],
   "source": [
    "importances = models['Random Forest'].feature_importances_\n",
    "indices = np.argsort(importances)[-10:]\n",
    "\n",
    "plt.figure(figsize=(8,6))\n",
    "plt.barh(range(len(indices)), importances[indices], align='center')\n",
    "plt.yticks(range(len(indices)), [X.columns[i] for i in indices])\n",
    "plt.title('Top 10 Important Features - Random Forest')\n",
    "plt.show()\n",
    "\n",
    "xgb_importances = models['XGBoost'].feature_importances_\n",
    "indices = np.argsort(xgb_importances)[-10:]\n",
    "\n",
    "plt.figure(figsize=(8,6))\n",
    "plt.barh(range(len(indices)), xgb_importances[indices], align='center')\n",
    "plt.yticks(range(len(indices)), [X.columns[i] for i in indices])\n",
    "plt.title('Top 10 Important Features - XGBoost')\n",
    "plt.show()"
   ]
  }
 ],
 "metadata": {
  "kernelspec": {
   "display_name": "Python [conda env:base] *",
   "language": "python",
   "name": "conda-base-py"
  },
  "language_info": {
   "codemirror_mode": {
    "name": "ipython",
    "version": 3
   },
   "file_extension": ".py",
   "mimetype": "text/x-python",
   "name": "python",
   "nbconvert_exporter": "python",
   "pygments_lexer": "ipython3",
   "version": "3.12.7"
  }
 },
 "nbformat": 4,
 "nbformat_minor": 5
}
